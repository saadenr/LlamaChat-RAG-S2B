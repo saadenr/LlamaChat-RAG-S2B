{
 "cells": [
  {
   "cell_type": "markdown",
   "metadata": {},
   "source": [
    "## Setup"
   ]
  },
  {
   "cell_type": "markdown",
   "metadata": {},
   "source": [
    "Install the required packages from `requirements.txt`"
   ]
  },
  {
   "cell_type": "code",
   "execution_count": 1,
   "metadata": {},
   "outputs": [],
   "source": [
    "# Enable automatic reloading of modules\n",
    "%reload_ext autoreload\n",
    "%autoreload 2"
   ]
  },
  {
   "cell_type": "code",
   "execution_count": 2,
   "metadata": {},
   "outputs": [
    {
     "data": {
      "text/plain": [
       "True"
      ]
     },
     "execution_count": 2,
     "metadata": {},
     "output_type": "execute_result"
    }
   ],
   "source": [
    "import os\n",
    "import openai\n",
    "from dotenv import load_dotenv\n",
    "\n",
    "# Load environment variables from a .env file\n",
    "load_dotenv()"
   ]
  },
  {
   "cell_type": "code",
   "execution_count": 3,
   "metadata": {},
   "outputs": [],
   "source": [
    "# Set the OpenAI API key from the environment variable\n",
    "openai.api_key = os.getenv(\"OPENAI_API_KEY\")"
   ]
  },
  {
   "cell_type": "code",
   "execution_count": 4,
   "metadata": {},
   "outputs": [
    {
     "name": "stderr",
     "output_type": "stream",
     "text": [
      "c:\\Users\\saad\\OneDrive\\Bureau\\LlamaChat-RAG-S2B\\.conda\\lib\\site-packages\\tqdm\\auto.py:21: TqdmWarning: IProgress not found. Please update jupyter and ipywidgets. See https://ipywidgets.readthedocs.io/en/stable/user_install.html\n",
      "  from .autonotebook import tqdm as notebook_tqdm\n"
     ]
    }
   ],
   "source": [
    "from llama_index.core.node_parser import SentenceWindowNodeParser\n",
    "from llama_index.core.node_parser import SentenceSplitter\n",
    "\n",
    "# create the sentence window node parser w/ default settings\n",
    "node_parser = SentenceWindowNodeParser.from_defaults(\n",
    "    window_size=5,\n",
    "    window_metadata_key=\"window\",\n",
    "    original_text_metadata_key=\"original_text\",\n",
    ")\n",
    "\n",
    "# base node parser is a sentence splitter\n",
    "text_splitter = SentenceSplitter()"
   ]
  },
  {
   "cell_type": "markdown",
   "metadata": {},
   "source": [
    "We'll define two crucial models :\n",
    "\n",
    "LLM (Language Model): The OpenAI model with the configuration \"gpt-3.5-turbo\" and a temperature setting of 0.1. This model is responsible for generating responses based on user queries and relevant context.\n",
    "\n",
    "Embedding Model: The HuggingFaceEmbedding model with the model name \"sentence-transformers/all-mpnet-base-v2\" and a maximum sequence length of 512. This model is used to create vector embeddings for individual text chunks."
   ]
  },
  {
   "cell_type": "code",
   "execution_count": 5,
   "metadata": {},
   "outputs": [],
   "source": [
    "from llama_index.llms.openai import OpenAI\n",
    "from llama_index.embeddings.huggingface import HuggingFaceEmbedding\n",
    "\n",
    "\n",
    "# Select Embedding Model and LLM\n",
    "llm = OpenAI(model=\"gpt-3.5-turbo\", temperature=0.1)\n",
    "\n",
    "embed_model = HuggingFaceEmbedding(\n",
    "    model_name=\"sentence-transformers/all-mpnet-base-v2\", max_length=512\n",
    ")"
   ]
  },
  {
   "cell_type": "markdown",
   "metadata": {},
   "source": [
    "### Settings"
   ]
  },
  {
   "cell_type": "code",
   "execution_count": 6,
   "metadata": {},
   "outputs": [],
   "source": [
    "from llama_index.core import Settings\n",
    "\n",
    "# Assign the LLM, embedding model, and text splitter to Settings\n",
    "Settings.llm = llm\n",
    "Settings.embed_model = embed_model\n",
    "Settings.text_splitter = text_splitter"
   ]
  },
  {
   "cell_type": "markdown",
   "metadata": {},
   "source": [
    "## Lmm Monitoring - Callbacks Integration\n",
    "#### Using Langfuse"
   ]
  },
  {
   "cell_type": "code",
   "execution_count": 7,
   "metadata": {},
   "outputs": [],
   "source": [
    "# Set the OpenAI API key from the environment variable\n",
    "langfuse_public_key = os.getenv(\"LANGFUSE_PUBLIC_KEY\")\n",
    "langfuse_secret_key = os.getenv(\"LANGFUSE_SECRET_KEY\")"
   ]
  },
  {
   "cell_type": "code",
   "execution_count": 8,
   "metadata": {},
   "outputs": [],
   "source": [
    "from llama_index.core.callbacks import CallbackManager\n",
    "from langfuse.llama_index import LlamaIndexCallbackHandler\n",
    "#  \n",
    "langfuse_callback_handler = LlamaIndexCallbackHandler(\n",
    "    public_key=langfuse_public_key,\n",
    "    secret_key=langfuse_secret_key,\n",
    "    host=\"https://cloud.langfuse.com\"\n",
    ")\n",
    "Settings.callback_manager = CallbackManager([langfuse_callback_handler])"
   ]
  },
  {
   "cell_type": "markdown",
   "metadata": {},
   "source": [
    "## Prompt Helper"
   ]
  },
  {
   "cell_type": "code",
   "execution_count": 9,
   "metadata": {},
   "outputs": [],
   "source": [
    "from llama_index.core import Settings\n",
    "\n",
    "# Define the prompt helper as a dictionary\n",
    "prompt_helper = {\n",
    "    \"context_window\": 4900,\n",
    "    \"num_output\": 256,\n",
    "    \"chunk_overlap_ratio\": 0.1,\n",
    "    \"chunk_size_limit\": 1000\n",
    "}\n",
    "\n",
    "# Assign the prompt helper dictionary to the Settings\n",
    "Settings.prompt_helper = prompt_helper"
   ]
  },
  {
   "cell_type": "markdown",
   "metadata": {},
   "source": [
    "## Data Loading, Index Building\n",
    "In this section, we load the data and construct the vector index."
   ]
  },
  {
   "cell_type": "code",
   "execution_count": 10,
   "metadata": {
    "notebookRunGroups": {
     "groupValue": ""
    }
   },
   "outputs": [],
   "source": [
    "from llama_index.core import SimpleDirectoryReader\n",
    "\n",
    "# List of PDF files to be read\n",
    "input_files = [\n",
    "    \"./data/Grasslan_carbon_sequ.pdf\",\n",
    "    \"./data/Rot_gas_serre.pdf\"\n",
    "\n",
    "]\n",
    "\n",
    "# Create a SimpleDirectoryReader instance\n",
    "documents = SimpleDirectoryReader(input_files=input_files).load_data()"
   ]
  },
  {
   "cell_type": "markdown",
   "metadata": {},
   "source": [
    "## Extract Nodes"
   ]
  },
  {
   "cell_type": "markdown",
   "metadata": {},
   "source": [
    "We identify and extract the set of nodes that will be stored in the VectorIndex. This set encompasses nodes processed by the sentence window parser and the \"base\" nodes extracted using the standard parser."
   ]
  },
  {
   "cell_type": "code",
   "execution_count": 11,
   "metadata": {},
   "outputs": [],
   "source": [
    "nodes = node_parser.get_nodes_from_documents(documents)"
   ]
  },
  {
   "cell_type": "code",
   "execution_count": 12,
   "metadata": {},
   "outputs": [
    {
     "name": "stdout",
     "output_type": "stream",
     "text": [
      "Node ID: doc_0\n",
      "Text: Animal (2010), 4:3, pp 334–350 &The Animal Consortium 2009\n",
      "doi:10.1017/S1751731109990784animal Mitigating the greenhouse gas\n",
      "balance of ruminant production systems through carbon sequestration in\n",
      "grasslands J. F . Soussana1-, T. Tallec1and V. Blanfort1,2 1INRA\n",
      "UR0874, UREP Grassland Ecosystem Research, 234, Avenue du Bre ´zet,\n",
      "Clermont-Ferrand, ...\n",
      "Node ID: doc_1\n",
      "Text: This will require avoidingland use changes that reduce ecosystem\n",
      "soil C stocks (e.g.deforestation, ploughing up long-term grasslands)\n",
      "and a cautious management of pastures, aiming at preserving\n",
      "andrestoring soils and their soil organic matter content. Combinedwith\n",
      "other mitigation measures, such as a reduction in the useof N\n",
      "fertilisers, of foss...\n",
      "Node ID: doc_2\n",
      "Text: and provide a variety of goods and services to support ﬂora,\n",
      "fauna, and human populations worldwide. On aglobal scale, livestock\n",
      "use 3.4 billion hectares of grazingland (i.e. grasslands and\n",
      "rangelands), in addition to animal feed produced on about a quarter of\n",
      "the land under crops. By 2020, this agricultural sub-sector will\n",
      "produce about30% of t...\n",
      "Node ID: doc_3\n",
      "Text: Worldwide the soil organiccarbon (SOC) sequestration potential\n",
      "is estimated to be0.01 to 0.3 Gt C/year on 3.7 billion ha of permanent\n",
      "pasture (Lal, 2004). Thus SOC sequestration by the world’s per- manent\n",
      "pastures could potentially offset up to 4% of theglobal GHG emissions.\n",
      "Here, we review the C sequestration potential of tem- perate managed\n",
      "gr...\n",
      "Node ID: doc_4\n",
      "Text: Processes controlling soil organic carbon accumulation Carbon\n",
      "accumulation in grassland ecosystems occurs mostly below ground.\n",
      "Grassland soils are typically rich in SOC,partly owing to active\n",
      "rhizodeposition (Jones and Donnelly, 2004) and partly to the activity\n",
      "of earthworms that promote macro-aggregate formation in which micro-\n",
      "aggregates formth...\n",
      "Node ID: doc_5\n",
      "Text: ,1 9 9 9 )i ng r a s s l a n da s compared to arable land, which\n",
      "limits the accuracy of directdeterminations of C stock changes. The\n",
      "variability in SOCcontents is increased by sampling to different\n",
      "depths (Robles and Burke, 1998; Chevallier et al., 2000; Bird et al.,\n",
      "2002) and in pastures by excretal returns concentrated in patches.\n",
      "Changes in S...\n",
      "Node ID: doc_6\n",
      "Text: Table 1 Literature survey of net C storage (NCS) at grassland\n",
      "sites using different methods: C ﬂux balance (A), grassland soil C\n",
      "inventory (B), soil C change after a change in grassland management\n",
      "(C), and farm scale ﬂux measurements (D). A positive F CO2represents a\n",
      "net C uptake from the ecosystem. A positive NCS denotes a net carbon\n",
      "accumulati...\n",
      "Node ID: doc_7\n",
      "Text: (2007) 200 kg N/ha per year Intensive wetland meadow (grazed and\n",
      "cut)UK 12.9 750 169 228 0 234 12 Eddy covariance Lloyd (2006) Wet\n",
      "grassland; corrected for animal intake Intensive grassland (Site A)\n",
      "County Cork, southern Ireland10 1470 15 0 n.d. 15** 12 Chamber\n",
      "measurementsByrne et al . (2005) 300 kg N/ha per year. New pasture\n",
      "Intensive grasslan...\n",
      "Node ID: doc_8\n",
      "Text: Table 1 Continued Grassland type and MAT MAP F CO2 Fharvest\n",
      "Fmanure Duration management Location ( 8C) (mm) (g C/m2per year) NCS\n",
      "(months) Method References Notes Grazed peat-pasture California, USA\n",
      "16.2 1180 28 0 0 n.d. 24 Eddy covariance Xu and Baldocchi (2004) Mixed\n",
      "grass Mandan ND, USA n.d. 478 94 0 0 n.d. 4 37 months Bowen ratio\n",
      "Frank and Du...\n",
      "Node ID: doc_9\n",
      "Text: Table 1 Continued Grassland type and MAT MAP F CO2 Fharvest\n",
      "Fmanure Duration management Location ( 8C) (mm) (g C/m2per year) NCS\n",
      "(months) Method References Notes Conversion of short duration grass-\n",
      "ley to grass-legumeFrance 9 800 30 to 50 10 years Soil C stock change\n",
      "0t o3 0 c mSoussana et al . (2004) Intensiﬁcation of permanent\n",
      "grasslandFrance 9...\n",
      "Node ID: doc_10\n",
      "Text: of permanent grasslands to leys of medium duration is also\n",
      "conducive to the release of soil C. Nevertheless, theuncertainties\n",
      "concerning the estimated values of C storageor release after a change\n",
      "in grassland management are still very high (estimated at 25 g C/m\n",
      "2per year). Data from the National Soil Inventory of England and Wales\n",
      "obtained betw...\n",
      "Node ID: doc_11\n",
      "Text: Ogle et al . (2004) identiﬁed 49 studies dealing with effects of\n",
      "management practices that eitherdegraded or improved conditions\n",
      "relative to nominally managed grasslands. On averag e, degradation\n",
      "reduced SOC stocks to 95% and 97% of C stored under nominal conditions\n",
      "in temperate and tropical regions, respectively. In contrast,\n",
      "improving grasslan...\n",
      "Node ID: doc_12\n",
      "Text: mass balance of these ﬂuxes (equation (1)):\n",
      "NCS¼ðFCO2/C0FCH4/C0C/C0FVOC/C0FfireÞþð Fmanure /C0Fharvest /C0Fanimal\n",
      "-products Þ/C0ð FleachþFerosion Þ; ð1Þ where F CO2is equal to the net\n",
      "ecosystem exchange (NEE) of CO 2between the ecosystem and the\n",
      "atmosphere, which is conventionally positive for a C gain by the\n",
      "ecosystem. FCH4/C0C,FVOCand F ﬁreare...\n",
      "Node ID: doc_13\n",
      "Text: Ruminant’s belched CO 2 (digestive 1metabolic CO 2) at grazing,\n",
      "which can be mea- sured by the SF 6method (Pinares-Patino et al .,\n",
      "2007), is included in F CO2measurements. It has no direct effect on\n",
      "the atmospheric CO 2concentration, because it is ‘short-cycling’\n",
      "carbon, which has been ﬁxed by plants earlier. Gilmanov et al . (2007)\n",
      "have analyse...\n",
      "Node ID: doc_14\n",
      "Text: The uncertainty associated to NCS can be estimated using\n",
      "Gaussian error propagation rules and accounting for sitenumber in each\n",
      "management type. NCS uncertainty reached 25% and 80% of the mean (data\n",
      "not shown) for grazed and for cut and mixed systems, respectively.\n",
      "Indeed, Ammann et al. (2007) reported that cutting and manure\n",
      "application introdu...\n",
      "Node ID: doc_15\n",
      "Text: methods, organic soils would be more susceptible of losing\n",
      "carbon than mineral soils, which underlines the need topreserve high\n",
      "soil C stocks. Carbon ﬂux studies show that NCS is affected by a\n",
      "number of site-speciﬁc factors, including grassland type (newly\n",
      "established v.permanent, Byrne et al ., 2005), N fertiliser supply\n",
      "(Ammann et al ., 2007),...\n",
      "Node ID: doc_16\n",
      "Text: Nitrous oxide emissions from grassland soils Biogenic emissions\n",
      "of N 2O from soils result primarily from the microbial processes\n",
      "nitriﬁcation and denitriﬁcation. N 2Oi sa by-product of nitriﬁcation\n",
      "and an intermediate during de- nitriﬁcation. Nitriﬁcation is the\n",
      "aerobic microbial oxidation ofammonium to nitrate and denitriﬁcation\n",
      "is the anaerobi...\n",
      "Node ID: doc_17\n",
      "Text: N2O emissions in soils usually occur in ‘hot spots’ asso- ciated\n",
      "with urine spots and particles of residues and fertiliser, despite the\n",
      "diffused spreading of fertilisers and manure (Flechard et al ., 2007).\n",
      "Nitrous oxide emissions from grass- lands also tend to occur in short-\n",
      "lived bursts following theapplication of fertilisers (Clayton et al\n",
      ".,...\n",
      "Node ID: doc_18\n",
      "Text: soils are, therefore, negligible. In fact, aerobic grassland\n",
      "soils tend to oxidise methane at a larger rate than cropland soil(6\n",
      "and 3 kg CH 4/ha per year respectively), but less so than uncultivated\n",
      "soils (Boeckx and Van Cleemput, 2001). In con- trast, in wet\n",
      "grasslands as in wetlands, the development of anaerobic conditions in\n",
      "soils may lead t...\n",
      "Node ID: doc_19\n",
      "Text: An increase in future drought events could therefore turn\n",
      "temperate grasslands into C sources, contributing to positive carbon-\n",
      "climate feedbacks already anticipated in the tropics and at high\n",
      "latitudes (Betts et al., 2004; Ciais et al., 2005; Bony et al., 2006).\n",
      "Gilmanov et al. (2005) have also shown that a sourcetype of activity\n",
      "is not an excep...\n",
      "Node ID: doc_20\n",
      "Text: are inaccurate at the farm scale. Livestock production sys- tems\n",
      "can be ranked differently depending on the approach(plot scale, on\n",
      "farm budget, lifecycle analysis) and on thecriteria (emissions per\n",
      "unit land area or per unit animal product) selected (Schils et al .,\n",
      "2007). Moreover, C sequestration (or loss) plays an important (Table\n",
      "1D), but o...\n",
      "Node ID: doc_21\n",
      "Text: The fraction of non-labile C in manure (f humif) varies between\n",
      "0.25 and 0.45 (Soussana et al ., 2004).Equation (3) assumes that (i)\n",
      "all harvested C is ingested by ruminants (no post-harvest losses), and\n",
      "(ii) that the non-digestible fraction returned as excreta is used for\n",
      "spreading.These assumptions could lead to an overestimation of\n",
      "theattribu...\n",
      "Node ID: doc_22\n",
      "Text: include C emissions from machin ery, which are higher in cut\n",
      "(e.g. mowing, silage making) compared to grazed systems, but are not\n",
      "part of the AFOLU (Agriculture, Forestry and OtherLand Uses) sector\n",
      "and are not discussed in this review. GHG balance during housing GHG\n",
      "emissions from manure management include directemissions of CH 4and N\n",
      "2O, as wel...\n",
      "Node ID: doc_23\n",
      "Text: The attributed GHG balance was positive for grazed sites\n",
      "(indicating a sink activity), but was negative for cut and mixed sites\n",
      "(indi-cating a source activity) (Table 2). Therefore, a\n",
      "grazingmanagement seems to be a better strategy for removingGHG from\n",
      "the atmosphere than a cutting management.However, given that the\n",
      "studied sites differed in man...\n",
      "Node ID: doc_24\n",
      "Text: A dynamic farm scale model (FarmSim) has been coupled to\n",
      "mechanistic simulation models of grasslands (PASIM, Riedo et al .,\n",
      "1998; Vuichard et al ., 2007b) and croplands (CERES ECC). In this way,\n",
      "C sequestration by grasslands can be simulated (Soussana et al., 2004)\n",
      "and included in the farm budget. The IPCC methodology Tier 1 and Tier\n",
      "2 is used t...\n",
      "Node ID: doc_25\n",
      "Text: The role of grazing management for the net biome productivity\n",
      "and greenhouse gasbudget (CO 2,N2O and CH 4) of semi-natural\n",
      "grassland. Agriculture, Ecosystems and Environment 121, 47–58. Ammann\n",
      "C, Flechard CR, Leifeld J, Neftel A and Fuhrer J 2007. The carbon\n",
      "budget of newly established temperate grassland depends on management\n",
      "intensity. Agricul...\n",
      "Node ID: doc_26\n",
      "Text: Carbon sequestration determined using farm scale carbon balance\n",
      "and eddy covariance. Agriculture Ecosystems and Environment 121,\n",
      "357–364. Cannell MGR, Milne R, Hargreaves KJ, Brown TAW, Cruickshank\n",
      "MM, Bradley RI, Spencer T, Hope D, Billett MF , Adger WN and Subak S\n",
      "1999. National inventories of terrestrial carbon sources and sinks:\n",
      "the UK exper...\n",
      "Node ID: doc_27\n",
      "Text: CLIMSOIL 2008. Review of existing information on the\n",
      "interrelations between soil and climate change. Final report of the\n",
      "ClimSoil project, contract number070307/2007/486157/SER/B1. European\n",
      "Commission, December 2008. Conant RT, Paustian K and Elliott ET 2001.\n",
      "Grassland management and conversion into grassland: effects on soil\n",
      "carbon. Ecological ...\n",
      "Node ID: doc_28\n",
      "Text: Agronomic andecological costs and beneﬁts of set-aside in\n",
      "England. Agriculture Ecosystem and Environment 95, 73–85. Fitter AH,\n",
      "Graves JD, Wolfenden J, Self GK, Brown TK, Bogie D and Mansﬁeld TA\n",
      "1997. Root production and turnover and carbon budgets of two\n",
      "contrasting grasslands under ambient and elevated atmospheric carbon\n",
      "dioxideconcentrations. ...\n",
      "Node ID: doc_29\n",
      "Text: Fontaine S, Barot S, Barre P , Bdioui N, Mary B and Rumpel C\n",
      "2007. Stability of organic carbon in deep soil layers controlled by\n",
      "fresh carbon supply. Nature450, 277–281. FAO 2006. Livestock’s long\n",
      "shadows: environmental issues and options. FAO, Rome. Frank AB and\n",
      "Dugas WA 2001. Carbon dioxide ﬂuxes over a northern, semiarid, mixed-\n",
      "grass prairie....\n",
      "Node ID: doc_30\n",
      "Text: Long- term carbon exchange in a sparse, seasonally dry tussock\n",
      "grassland. Global Change Biology 10, 1785–1800. IPCC 1996. Revised\n",
      "guidelines for national greenhouse gas inventories. IPCC, Cambridge\n",
      "University Press, Cambridge. IPCC 2001. Climate change 2001: the\n",
      "scientiﬁc basis (Contribution of Working Group I to the third\n",
      "assessment report of t...\n",
      "Node ID: doc_31\n",
      "Text: Klumpp K, Soussana JF and Falcimagne R 2007. Effects of past and\n",
      "current disturbance on carbon cycling in grassland mesocosms.\n",
      "Agriculture Ecosystemsand Environment 121, 59–73. Klumpp K and\n",
      "Soussana JF 2009. Using functional traits to predict grassland\n",
      "ecosystem change: a mathematical test of the response-and-effect\n",
      "approach.Global Change Biolog...\n",
      "Node ID: doc_32\n",
      "Text: Meehl GA and Tebaldi C 2004. More intense, more frequent, and\n",
      "longer lasting heat waves in the 21st century. Science 305, 994–997.\n",
      "Morgan JA, Pataki DE, Korner C, Clark H, Del Grosso SJ, Grunzweig JM,\n",
      "Knapp AK, Mosier AR, Newton PCD, Niklaus PA, Nippert JB, Nowak RS,\n",
      "Parton WJ, Polley HW and Shaw MR 2004. Water relations in grassland\n",
      "and deserte...\n",
      "Node ID: doc_33\n",
      "Text: Picon-Cochard P , Teyssonneyre F , Besle JM and Soussana JF\n",
      "2004. Effects of elevated CO 2and cutting frequency on the\n",
      "productivity and herbage quality of a semi-natural grassland. European\n",
      "Journal of Agronomy 20, 363–377. Pinares-Patino CS, D’Hour P , Jouany\n",
      "JP and Martin C 2007. Effects of stocking rate on methane and carbon\n",
      "dioxide emissions ...\n",
      "Node ID: doc_34\n",
      "Text: A review of a farm level modelling approach for mitigating\n",
      "greenhouse gas emissions from ruminant livestock systems. Livestock\n",
      "Science 112, 240–251. Schlesinger WH 1990. Evidence from\n",
      "chronosequence studies for a low carbon- storage potential of soils.\n",
      "Nature 348, 232–234. Siemens J 2003. The European carbon budget: a\n",
      "gap. Science 302, 1681–1681...\n",
      "Node ID: doc_35\n",
      "Text: Sommer SG, Petersen SO and Moller HB 2004. Algorithms for\n",
      "calculating methane and nitrous oxide emissions from manure\n",
      "management. NutrientCycling in Agroecosystems 69, 143–154. Soussana JF\n",
      "and Hartwig UA 1996. The effects of elevated CO 2on symbiotic\n",
      "N2ﬁxation: a link between the carbon and nitrogen cycles in grassland\n",
      "ecosystems. Plant and Soil...\n",
      "Node ID: doc_36\n",
      "Text: Biodiversity and ecosystem stability in a decade-long grassland\n",
      "experiment. Nature 441, 629–632. Tilman D, Reich PB and Knops JMH\n",
      "2006b. Carbon-negative biofuels from low- input high diversity\n",
      "grassland biomass. Science 314, 1598–1600. Tubiello F , Soussana JF ,\n",
      "Howden SM and Easterling W 2007. Crop and pasture response to climate\n",
      "change. Procee...\n",
      "Node ID: doc_37\n",
      "Text: See discussions, st ats, and author pr ofiles f or this public\n",
      "ation at : https://www .researchgate.ne t/public ation/283210176\n",
      "Performances des rotations à base de cultu res fou rragères en termes\n",
      "de gaz à effet de serre (GES) et bilan carbone Article  · Januar y\n",
      "2015 CITATION 1READS 220 11 author s, including: Some o f the author s\n",
      "of this pub...\n",
      "Node ID: doc_38\n",
      "Text: La combinaison de l’intensification et de la simplifica- tion\n",
      "des systèmes agricoles, principalement dans les pays industrialisés, a\n",
      "généré des impacts extrême- ment négatifs sur le sol, la qualité des\n",
      "eaux et l’environnement en général (TILMANet al., 2002). La compé-\n",
      "titivité sur le marché mondial semble être basée sur laspécialisation\n",
      "et l’aug...\n",
      "Node ID: doc_39\n",
      "Text: ?`SYaP_X^aU`_SBZ]P^aUW]P<RN\\_YZW] `\u001cH$\\ZI`]YX^aIZS\\WW\\P_]ZXI^a]Z\n",
      "Y\\_Y`^a]ZY\\WP`]^a]ZY\\WP`]a?`\\YZUZX_YZW]^aW\\P_]ZSaI_YY`\\^aHUWNPBZ]P<NHa\n",
      "W?a2`P`Y_UaSW2`\\^aXWZU[ RÉFÉRENCE DE\n",
      "L’ARTICLECaFB_88ZaV[^aO`]_H_YZaG[^a7ZWXY\\ZaV[^a'`\\Y!Xa;[^aF_\\\\W\n",
      "Za=[^aK`I_Z\\`a7[^a7_XY_Ua;[^aQ`SWNXaO[^a%UNIHHa%[^\n",
      "=_XX_RaQ[O[^aQNIH`UaF[a9LJM-:Ca.1`\\?W\\I_]S`XaR`Xa\\WY_YZW]Xa\u0018a...\n",
      "Node ID: doc_40\n",
      "Text: \u0003\u0004                 \u000e\u0001\n",
      ")/1-'1(/\u001c\u001f0,0\u001e(/1,-+0+*-.)1*$!,-\u0017/)1#,//.\n",
      "-&)/1#0)1\u0019\u0012\u0002\u0012\u001b1/$*))*-.)10.\"1%0,\u001e-.1\u001e0(0.%/1 The intensification and\n",
      "specialisation of farming systems leads to the decoupling of the\n",
      "carbon and nitrogen cycles, which results in nutrients being lost to\n",
      "the environment. The use of ley-arable rotations can help strike a\n",
      "better balance between in...\n",
      "Node ID: doc_41\n",
      "Text: des exploitations agricoles accroît les risques liés à la vola-\n",
      "tilité des prix (MILESTADTet al., 2012). Ainsi, le paradigme de\n",
      "spécialisation- intensification comme unique voie de déve- loppement\n",
      "agricole doit être remis en cause (EVANS, 2009) en rompant le lien\n",
      "historique entre intensification et spé- cialisation et en cherchant à\n",
      "accroître la...\n",
      "Node ID: doc_42\n",
      "Text: L’azote minéral, qui est soumis en permanence à l’absorption par\n",
      "les plantes et à la réorganisation par les microbes du sol, a donc un\n",
      "temps de résidence très faible dans le sol sous prairie, ce qui\n",
      "empêche son accumulation et évite donc les pertes par lixiviation.\n",
      "Cette capacité de «rétention» de l’azote par laprairie est elle-même\n",
      "déterminée p...\n",
      "Node ID: doc_43\n",
      "Text: dégradation rapide et intense des MOS (RUMPEL, 2011). Les pertes\n",
      "de carbone augmentent avec la fréquence de travail du sol (CONANTet\n",
      "al., 2007). Au cours de la phase de présence de la prairie, le sol\n",
      "accumule souvent le C à un rythme plus lent que le taux de perte de C\n",
      "sous cul- ture après labour (ARROUAYSet al., 2002; VERTÈSet al., 2007;\n",
      "JONESe...\n",
      "Node ID: doc_44\n",
      "Text: En effet, les mesures des flux et bilans de CO2conduits depuis\n",
      "2005 sur les deux sites du SOERE-ACBB (résultats non montrés ici) ont\n",
      "permis d’identifier l’impact de différents modes de gestion de la\n",
      "prairie (fauche/pâture, intensification- chargement ani- mal,\n",
      "retournement de la prairie et implémentation de la séquence de\n",
      "cultures annuelles) sur...\n",
      "Node ID: doc_45\n",
      "Text: \"1'-,1+ /1%,-!)1#,-\u0018. + /,/1+ /1./\u0013+1 \u001c/0,) (SENAPATIet al.,\n",
      "2014).;E7DQTLCaEvolution de l’accumulation du carbone organique (a) et\n",
      "taux annuel d’accumulation de C (b) sous prairie\n",
      "9R\u0014_H\\!Xa;QVG\u001bKDT66TQOet al.^aLJML:[ FIGURE2:\u001d 0.#/)1*.1+\n",
      "/10%%&$&(0+*-.1-'1-,#0.*%1\u001d \u00190\u001b10.\"1+\n",
      "/10..&0(1,0+/1-'1\u001d10%%&$&(0+*-.1\u0019\u001e\u001b1*.1!0)\u001f +&,/)1(after\n",
      "FRANZLUEBBERS...\n",
      "Node ID: doc_46\n",
      "Text: maïs ont entraîné une perte de 30% du stock initial de carbone,\n",
      "alors que ce stock s’est maintenu sous prairies permanentes fauchées\n",
      "(figure3). La teneur initiale élevée en matière organique du sol\n",
      "(environ 4,5%) et l’exploitation en fauche des prairies expliquent le\n",
      "non-stockage de matière organique même sous prairies permanentes. Une\n",
      "analyse d...\n",
      "Node ID: doc_47\n",
      "Text: )+-,0#/1-'1-,#0.*%1%0,\u001f \u001e-.1*.1+ /1)-*(\u000510\u001b1(-.#\u001f +/,$1%\n",
      "0.#/)10.\"1\u001e\u001b /''/%+1-.1\u001a1$*./,0(*)0\u001f +*-.1(after VERTÈSand MARY,\n",
      "2014). ;E7DQT5CaEvolution de la teneur des sols du SOERE ACBB\n",
      "9XZY`aR`aKNXZP]_]:aen C et N (a) et en N minéral potentiel- lement\n",
      "minéralisable (b) après 9années de traitements[a FIGURE4:\u001d\n",
      "0.#/)1*.1(/\u0017/()1-'1\u001d\u00101\u001a1\u00190\u001b\u001010.\"1!-+/...\n",
      "Node ID: doc_48\n",
      "Text: maîtrisée sous prairie fauchée même assez largement fertilisée\n",
      "tandis qu’elle peut dépasser largement le seuil de potabilité sous un\n",
      "système de cultures annuelles malgré une fertilisation raisonnée ou\n",
      "conventionnelle, en particu- lier dans les zones à faible lame\n",
      "drainante. Le labour et la remise en culture d’une prairie fauchée\n",
      "ayant 3ans d’âge...\n",
      "Node ID: doc_49\n",
      "Text: Les flux moyens de N2O, 34jours après la destruction de la\n",
      "prairie (figure6a, phase L), sont de 5,43± 2,73ng N/m2/s, alors qu’ils\n",
      "sont pour la même période de 1,32 ± 0,74ng N/m2/s sur la prairie\n",
      "fauchée (figure6b). Au cours de la période en maïs, les flux de N2O du\n",
      "sol varient fortement entre -1,35 et+9,92ng N/m2/s, avec une moyenne\n",
      "de 1,35 ± 1,...\n",
      "Node ID: doc_50\n",
      "Text: N/m2/s. Pour la culture de blé, les flux moyens de N2O sont\n",
      "proches de ceux observés pour le maïs (1,36 ± 1,37ng N/m2/s).  Les\n",
      "résultats montrent que le retournement de la prairie engendre une\n",
      "augmentation de l’émission de N2O pendant une période de 4moispar\n",
      "rapport à une prairie maintenue en fauche. Toutefois, les flux cumulés\n",
      "sur une période d...\n",
      "Node ID: doc_51\n",
      "Text: Afin de réduire l’incertitude sur les prédictions des émissions\n",
      "de GES et de stockage du C et N dans les agroécosystèmes, une critique\n",
      "des modèles existant et leur confrontation avec des mesures collectées\n",
      "au sein des SOERE s’impose. Ainsi, à l’aide d’un modèle couplé de\n",
      "prairie (PaSIM: VUICHARDet al., 2007; GRAUXet al., 2011) et de\n",
      "cultures (CE...\n",
      "Node ID: doc_52\n",
      "Text: connus depuis longtemps, il y a maintenant une conver- gence des\n",
      "observations expérimentales démontrant que de nombreux avantages\n",
      "supplémentaires peuvent résul- ter de la (re)mise en place de prairies\n",
      "au sein du système de grandes cultures, en particulier pour la\n",
      "protection de l’environnement physique et biologique des sols mais\n",
      "aussi pour rédui...\n",
      "Node ID: doc_53\n",
      "Text: WHHW\\YN]ZYZ`Xa?W\\a?``RZ]PaYB`a#W\\URaZ]aLJ-JCaY\\_R`<W??a8`Y#``]\n",
      "RZ`Y^aGaSW]Y_IZ]_YZW]a_]RaZ]Y`\\]_YZW]_UaY\\_R`/^Environmental Research\n",
      "Letters^aMJ[aRWZCMJ[MJ&&\u0019M+5&<*4L(\u0019MJ\u0019L\u0019JL-JJM\n",
      "6>D\u001fV=VGV[;[9M**J:Ca.T\u001cSB_]P`XaW?aP\\``]BWNX`aP_X`Xa8`Y#``]\n",
      "Y`\\\\`XY\\Z_Ua`SWX0XY`IXa_]RaYB`a_YIWXHB`\\`/^Soils and the greenhouse\n",
      "effect^aV[;[a6WN#I_]a`R[^a)WB]a\u001fZU`0a_]R...\n",
      "Node ID: doc_54\n",
      "Text: Rural Studies^aL-^aLM+<L4J[\n",
      ";QVG\u001bKDT66TQOV[)[9LJMJ:Ca.VSBZ`2Z]PaXWZUaW\\P_]ZSaS_\\8W]\n",
      "X`\u001dN`XY\\_YZW]a#ZYBaSW]X`\\2_YZW]a_P\\ZSNUYN\\_UaX0XY`IXaZ]aYB`\n",
      "XWNYB`_XY`\\]aD]ZY`RaOY_Y`X/^Soil Sci. Soc. Am. J.^a+5^a45+<4-+[\n",
      ";QVG\u001bKDT66TQOV[)[^aODKFQ[=[^aQDOOTKKT=[1[9LJMM:Ca.>HHW\\YN]ZYZ`X\n",
      "_]RaSB_UU`]P`a?W\\aZ]Y`P\\_YZ]PaGW\\YB<VI`\\ZS_]aS\\WHa_]RaUZ2`XYWS\u001e\n",
      "X0XY`IX/^aK...\n",
      "Node ID: doc_55\n",
      "Text: Soil Water Conserv.^a(+^aMJJ_<MJ5_[\n",
      "7V6QETKKT6[^aKV'EKKT1[^a,TGVDKAF[^aGEF>DKKVD36[^a7TQ=>G)[F[9LJJ(:C\n",
      ".OZINU_YZW]aW?a]ZY\\WNXaW\u001cZR`a`IZXXZW]Xa?\\WIa#B`_Y<S\\WHH`RaXWZUX\n",
      "NXZ]PaFTQTO/^Nutrient Cycling Agroecosys.^a+5^aM44<M5([\n",
      "7VOFDTKF[^aQDE\u001bK[^a'TQA\u001aO;[a9SWW\\R[:a9LJM-:CaComment réconcilier\n",
      "agriculture et littoral ? vers une agroécologie des territo...\n",
      "Node ID: doc_56\n",
      "Text: Food Res.^a5&^ LJ*<LL([\n",
      "KT=VEQT7[^a,>37O>G)[^aF,V66EV[9LJMM:Ca.;WWRaX`SN\\ZY0a_]R\n",
      "`]2Z\\W]I`]Y_UaZIH_SYXa\u0015FB_UU`]P`a?W\\aP\\_XXU_]RaXSZ`]S`X\u0002^ Grassland\n",
      "Productivity and Ecosystem Services^aFV6aE]Y[^\n",
      "\u001f_UUZ]P?W\\R^aD%^aHH[a\u001cZZZ<\u001c2ZZ[\n",
      "KT=VEQT7[^a;QVG\u001bKDT66TQOV[^aFVQ'VK,>1[F[;[^a3T3ETD6[9LJM5:C\n",
      ".E]Y`P\\_Y`RaS\\WH\u0015UZ2`XYWS\u001eaX0XY`IXaOY\\_Y`PZ`XaYWa_SBZ`2`aX0...\n",
      "Node ID: doc_57\n",
      "Text: Agron.^a+*^a(*<MM*[\u000e\u0015\u001d\u001b\u001d\u001e\u0015\u001c\u0018 \u0010\u001a\u001b\u001e\u001a\u001e\u001f\u0018 \u0006 \u0016\u0019\u0017\u001d\u0019\u001a\u001f\u0018 \u001f\u001d \u001a\u0007\u0014\u0019\u0016\u001d\u001e\u0015\u001c\n",
      "\u0014\u001f\u0018 \u001e\u0011\u0010\u001b\u0016\u001d\u0018 \u001f\u001c\u000f\u001e\u001a\u0015\u001c\u001c\u001f\u0011\u001f\u001c\u001d\u001b \u0014\u001f \u0017\u0005\u001b \u001a\u001e\u0016\u0019\u0017\u001d\u0019\u001a\u001f \u001e\u001c\u001d\u001f\u001c\u0018\u001e\u000f\u001f      247\n",
      "Fourrages (2015) 223, 241-248\n",
      "Node ID: doc_58\n",
      "Text:\n",
      "1T\"QVD3)[K[^aFTKKKETQ1[^a3>GGVQOF[^a'TQA\u001aO;[9SWW\\R[:a9LJM5:CaRéduire\n",
      "les pertes d’azote en élevage^a$R[a\u0013N\u0003^aSWUUa=_YZ!\\`a\u0018aR$8_YY\\`a\u000f\n",
      "R$SZR`\\^aMM-H[\n",
      "QD=1TKF[9LJMM:Ca.F_\\8W]aXYW\\_P`a_]RaW\\P_]ZSaI_YY`\\aR0]_IZSXaZ]\n",
      "P\\_XXU_]RaXWZUX/^aK`I_Z\\`a7[^a,WRPXW]a)[^aFB_88ZaV[a9`RX:^ Grassland\n",
      "productivity and ecosystem services^aFV6E^a(-<+L[ QD=1TKF[^aF,V66...\n",
      "Node ID: doc_59\n",
      "Text: Soc. Am. J.^a(M^aM5((\u0015M5+L[ ODAA>G=[V[^a,>\u001fVQ3F[=[aet\n",
      "al.9LJMM:CaThe European nitrogen assessment. Sources, effects and\n",
      "policy perspectives, F_I8\\ZRP`^aF_I8\\ZRP`aD]Z2`\\XZY0a1\\`XX[\n",
      "AEK=VG3[^aFVOO=VG%[7[^a=VAO>G1[V[^aGV\"K>QQ[^a1>KVO%\"O[9LJJL:C\n",
      ".VP\\ZSNUYN\\_UaXNXY_Z]_8ZUZY0a_]RaZ]Y`]XZ2`aH\\WRNSYZW]aH\\_SYZS`X/^\n",
      "Nature^a5M&^a(+M<(++[ 'TQA\u001aO;[^a=VQ\"6[9...\n",
      "Node ID: doc_60\n",
      "Text: AssociationmFrançaisempourmlamProductionmFourragère AFPFm–mCentr\n",
      "emInram–mBâtm9m–mRDm10m–m78026mVersaillesmCedexm–mFranceTél.m:mç33.01.\n",
      "30.21.99.59m–mFaxm:mç33.01.30.83.34.49m–mMailm:afpf.versailles@gmail.c\n",
      "omAssociationmFrançaisempourmlamProductionmFourragère La revue\n",
      "Fourrages est éditée par l'Association Française pour la Production\n",
      "Fourragère w...\n"
     ]
    }
   ],
   "source": [
    "base_nodes = text_splitter.get_nodes_from_documents(documents)\n",
    "\n",
    "for idx, node in enumerate(base_nodes):\n",
    "    node.id_ = f\"doc_{idx}\"\n",
    "    print(node)"
   ]
  },
  {
   "cell_type": "markdown",
   "metadata": {},
   "source": [
    "## Build Index"
   ]
  },
  {
   "cell_type": "markdown",
   "metadata": {},
   "source": [
    "We build both the sentence index, as well as the “base” index."
   ]
  },
  {
   "cell_type": "code",
   "execution_count": 13,
   "metadata": {},
   "outputs": [],
   "source": [
    "from llama_index.core import VectorStoreIndex\n",
    "\n",
    "# Create a VectorStoreIndex instance using the 'nodes' dataset\n",
    "sentence_index = VectorStoreIndex(nodes)"
   ]
  },
  {
   "cell_type": "code",
   "execution_count": 14,
   "metadata": {},
   "outputs": [],
   "source": [
    "# Create another VectorStoreIndex instance using the 'base_nodes' dataset\n",
    "base_index = VectorStoreIndex(base_nodes)"
   ]
  },
  {
   "cell_type": "markdown",
   "metadata": {},
   "source": [
    "## Querying"
   ]
  },
  {
   "cell_type": "markdown",
   "metadata": {},
   "source": [
    "#### Querying with window method"
   ]
  },
  {
   "cell_type": "code",
   "execution_count": 15,
   "metadata": {},
   "outputs": [],
   "source": [
    "from llama_index.core.postprocessor import MetadataReplacementPostProcessor\n",
    "\n",
    "# Create a QueryEngine instance using the window retrieval\n",
    "query_engine = sentence_index.as_query_engine(\n",
    "    similarity_top_k=5,\n",
    "    # the target key defaults to `window` to match the node_parser's default\n",
    "    node_postprocessors=[\n",
    "        MetadataReplacementPostProcessor(target_metadata_key=\"window\")\n",
    "    ],\n",
    ")"
   ]
  },
  {
   "cell_type": "markdown",
   "metadata": {},
   "source": [
    "#### Querying with normal VectorStoreIndex"
   ]
  },
  {
   "cell_type": "code",
   "execution_count": 16,
   "metadata": {},
   "outputs": [],
   "source": [
    "# Create a QueryEngine instance using base retrieval\n",
    "base_query_engine = base_index.as_query_engine(similarity_top_k=2)"
   ]
  },
  {
   "cell_type": "markdown",
   "metadata": {},
   "source": [
    "If that didn't work, we should bump up the top k! (example k = 4) This will be slower and use more tokens compared to the sentence window index."
   ]
  },
  {
   "cell_type": "markdown",
   "metadata": {},
   "source": [
    "## Use Gradio UI to interact with our chatbot"
   ]
  },
  {
   "cell_type": "code",
   "execution_count": 73,
   "metadata": {},
   "outputs": [
    {
     "name": "stdout",
     "output_type": "stream",
     "text": [
      "Running on local URL:  http://127.0.0.1:7862\n",
      "\n",
      "To create a public link, set `share=True` in `launch()`.\n"
     ]
    },
    {
     "data": {
      "text/html": [
       "<div><iframe src=\"http://127.0.0.1:7862/\" width=\"100%\" height=\"500\" allow=\"autoplay; camera; microphone; clipboard-read; clipboard-write;\" frameborder=\"0\" allowfullscreen></iframe></div>"
      ],
      "text/plain": [
       "<IPython.core.display.HTML object>"
      ]
     },
     "metadata": {},
     "output_type": "display_data"
    },
    {
     "data": {
      "text/plain": []
     },
     "execution_count": 73,
     "metadata": {},
     "output_type": "execute_result"
    }
   ],
   "source": [
    "import gradio as gr\n",
    "import time\n",
    "\n",
    "\n",
    "with gr.Blocks() as demo:\n",
    "    chatbot = gr.Chatbot()\n",
    "    msg = gr.Textbox()\n",
    "    clear = gr.ClearButton([msg, chatbot])\n",
    "\n",
    "    def respond(message, chat_history):\n",
    "        \n",
    "        # bot_message = str(base_query_engine.query(message))\n",
    "        bot_message = str(base_query_engine.query(message))\n",
    "        chat_history.append((message, bot_message))\n",
    "        \n",
    "        time.sleep(0.05)\n",
    "        return \"\", chat_history\n",
    "\n",
    "    msg.submit(respond, [msg, chatbot], [msg, chatbot])\n",
    "\n",
    "demo.launch()"
   ]
  },
  {
   "cell_type": "markdown",
   "metadata": {},
   "source": [
    "# Analysis"
   ]
  },
  {
   "cell_type": "markdown",
   "metadata": {},
   "source": [
    "We examine both the initial sentence retrieved for each node and the specific set of sentences sent to the LLM."
   ]
  },
  {
   "cell_type": "code",
   "execution_count": 71,
   "metadata": {},
   "outputs": [
    {
     "name": "stdout",
     "output_type": "stream",
     "text": [
      "Original Sentence: A positive NCS denotes a net carbon accumulation in grassland ecosystems. \n",
      "------------------\n",
      "Window: Table 1 Literature survey of net C storage (NCS) at grassland sites using different methods: C ﬂux balance (A), grassland soil C inventory (B), soil C change after a change in grassland management\n",
      "(C), and farm scale ﬂux measurements (D).  A positive F CO2represents a net C uptake from the ecosystem.  A positive NCS denotes a net carbon accumulation in grassland ecosystems.  All ﬂuxes are in g\n",
      "C/m2per year\n",
      "Grassland type and MAT MAP F CO2 Fharvest Fmanure Duration\n",
      "management Location ( 8C) (mm) (g C/m2per year) NCS (months) Method References Notes\n",
      "A. Flux balance\n",
      "Alpine extensive pasture\n",
      "and hay meadowMount Rigi, Central\n",
      "Switerland8.4 991 2172 183 0 2355 12 Eddy covariance Rogiers et al .  (2008) Drained organic soil\n",
      "Grazed peat-pasture Waikato, New Zealand 15 1281 24.5 619 n.d.  2106 12 Eddy covariance Nieveen et al .  (2005) Drained peat soil\n",
      "Extensive grazed pasture East of the Missouri river,\n",
      "North Dakota15 483 317 a n.d.  n.d. \n"
     ]
    }
   ],
   "source": [
    "window_response = query_engine.query(\"What does NCS mean?\")\n",
    "\n",
    "sentence = window_response.source_nodes[0].node.metadata[\"original_text\"]\n",
    "window = window_response.source_nodes[0].node.metadata[\"window\"]\n",
    "\n",
    "print(f\"Original Sentence: {sentence}\")\n",
    "print(\"------------------\")\n",
    "print(f\"Window: {window}\")"
   ]
  },
  {
   "cell_type": "code",
   "execution_count": 19,
   "metadata": {},
   "outputs": [
    {
     "name": "stdout",
     "output_type": "stream",
     "text": [
      "------------------\n",
      "Advanced (Tier 3) and veriﬁable methodolo-\n",
      "gies still need to be developed in order to include GHGremovals obtained by farm scale mitigation options inagriculture, forestry and land use (AFOLU sector, IPCC,2006) national GHG inventories.\n",
      "\n",
      "------------------\n",
      "The GHG inventory methodology usedby IPCC (IPCC, 1996 and 2006) only includes, however,farm emissions in the agriculture sector. \n",
      "------------------\n",
      "Nevertheless, sites that were intensively managed bygrazing and cutting had a negative NGHG and were\n",
      "therefore estimated to be GHG sources in CO\n",
      "2equivalents.\n",
      "\n",
      "------------------\n",
      "The mean on-site NGHG reached 198 g CO 2equiva-\n",
      "lents/m2per year, indicating a sink for the atmosphere.\n",
      "\n",
      "------------------\n",
      "The net emissions of GHGs (methane, nitrousoxide and carbon dioxide) are related to C and nitrogen\n",
      "ﬂows and to environmental conditions.\n",
      "\n"
     ]
    }
   ],
   "source": [
    "for source_node in window_response.source_nodes:\n",
    "    print(\"------------------\")\n",
    "    print(source_node.node.metadata[\"original_text\"])"
   ]
  },
  {
   "cell_type": "markdown",
   "metadata": {},
   "source": [
    "Here, we observe that the sentence window index effortlessly identified two nodes discussing SOC.\n",
    "\n",
    "**N.B:** although the embeddings are based solely on the original sentence, the LLM also comprehends the context of SOC during its reading process."
   ]
  },
  {
   "cell_type": "code",
   "execution_count": 20,
   "metadata": {},
   "outputs": [
    {
     "name": "stdout",
     "output_type": "stream",
     "text": [
      "GHG mentioned? True\n",
      "--------\n",
      "GHG mentioned? True\n",
      "--------\n"
     ]
    }
   ],
   "source": [
    "vector_response = base_query_engine.query(\"What is GHG?\")\n",
    "\n",
    "for node in vector_response.source_nodes:\n",
    "    print(\"GHG mentioned?\", \"GHG\" in node.node.text)\n",
    "    print(\"--------\")"
   ]
  },
  {
   "cell_type": "code",
   "execution_count": 21,
   "metadata": {},
   "outputs": [
    {
     "name": "stdout",
     "output_type": "stream",
     "text": [
      "The attributed GHG\n",
      "balance was positive for grazed sites (indicating a sink\n",
      "activity), but was negative for cut and mixed sites (indi-cating a source activity) (Table 2). Therefore, a grazingmanagement seems to be a better strategy for removingGHG from the atmosphere than a cutting management.However, given that the studied sites differed in manyrespects (climate, soil and vegetation) (Soussana\n",
      "et al .,\n",
      "2007), this hypothesis needs to be further tested.\n",
      "Taken together, these results show that managed grass-\n",
      "lands have a potential to remove GHG from the atmo-\n",
      "sphere, but that the utilisation of the cut herbage byruminants may lead to large non-CO\n",
      "2GHG emissions in\n",
      "farm buildings, which may compensate this sink activity.Data from a larger number of ﬂux sites and from long-termexperiments will be required to upscale these results atregional scale and calculate GHG balance for a range of\n",
      "production systems. In order to further reduce uncertainties,\n",
      "C and N ﬂuxes are investigated for a number of additionalgrassland and wetland sites (e.g. CarboEurope andNitroEurope research project). Grassland ecosystem simu-lation models have also been used for upscaling theseﬂuxes (Levy\n",
      "et al ., 2007; Vuichard et al ., 2007a) in order to\n",
      "estimate the C and GHG balance at the scale of Europe.\n",
      "Two main problems were identiﬁed: (i) the lack of con-\n",
      "sistent grassland management data across Europe; (ii) the\n",
      "lack of detailed grassland soil C inventories for soil modelinitialisation (Vuichard\n",
      "et al ., 2007a).\n",
      "Including carbon sequestration in greenhouse gas budgets\n",
      "at farm scale\n",
      "A grazing livestock farm consists in a productive unit thatconverts various resources into outputs as milk, meat andsometimes grains too. In Europe, many ruminant farms\n",
      "have mixed farming systems: they produce themselves the\n",
      "roughage and, most often, part of the animal’s feeds andeven straw that is eventually needed for bedding. Con-versely, these farms recycle animal manure by ﬁeld appli-cation. Most farms purchase some inputs, such as fertilisersand feed, and they always use direct energy derived fromfossil fuels. The net emissions of GHGs (methane, nitrousoxide and carbon dioxide) are related to C and nitrogen\n",
      "ﬂows and to environmental conditions.\n",
      "To date, only few recent models has been developed to\n",
      "estimate the farm GHG balance (Schils\n",
      "et al ., 2007). Most\n",
      "models have used ﬁxed emission factors both for indoors\n",
      "and outdoors emissions (e.g. FARM GHG, Olesen et al .,\n",
      "2006, Lovett et al ., 2006). Although, these models have\n",
      "considered the on- and off-farm CO 2emissions (e.g. from\n",
      "fossil fuel combustion), they did not include possible\n",
      "changes in soil C resulting from the farm management.\n",
      "Moreover, as static factors are used rather than dynamicsimulations, the environmental dependency of the GHGﬂuxes is not captured by these models.Soussana, Tallec and Blanfort\n",
      "346\n"
     ]
    }
   ],
   "source": [
    "print(vector_response.source_nodes[0].node.text)"
   ]
  },
  {
   "cell_type": "markdown",
   "metadata": {},
   "source": [
    "# Evaluation"
   ]
  },
  {
   "cell_type": "markdown",
   "metadata": {},
   "source": [
    "We'll do an evaluation to assess the effectiveness of the sentence window retriever in comparison to the base retriever.\n",
    "\n",
    "We establish or load an evaluation benchmark dataset and proceed to execute various assessments on it."
   ]
  },
  {
   "cell_type": "code",
   "execution_count": 22,
   "metadata": {},
   "outputs": [],
   "source": [
    "from llama_index.core.evaluation import DatasetGenerator\n",
    "\n",
    "from llama_index.llms.openai.base import OpenAI\n",
    "import nest_asyncio\n",
    "import random\n",
    "\n",
    "nest_asyncio.apply()"
   ]
  },
  {
   "cell_type": "code",
   "execution_count": 57,
   "metadata": {},
   "outputs": [
    {
     "data": {
      "text/plain": [
       "61"
      ]
     },
     "execution_count": 57,
     "metadata": {},
     "output_type": "execute_result"
    }
   ],
   "source": [
    "len(base_nodes)"
   ]
  },
  {
   "cell_type": "code",
   "execution_count": 43,
   "metadata": {},
   "outputs": [
    {
     "name": "stderr",
     "output_type": "stream",
     "text": [
      "C:\\Users\\saad\\AppData\\Local\\Temp\\ipykernel_10936\\4187532567.py:7: DeprecationWarning: Call to deprecated class DatasetGenerator. (Deprecated in favor of `RagDatasetGenerator` which should be used instead.)\n",
      "  dataset_generator = DatasetGenerator(\n"
     ]
    }
   ],
   "source": [
    "num_nodes_eval = 10\n",
    "\n",
    "# there are 61 nodes total. Take the first 25 to generate question\n",
    "sample_eval_nodes = random.sample(base_nodes[:25], num_nodes_eval)\n",
    "\n",
    "# generate questions from the largest chunks (1024)\n",
    "dataset_generator = DatasetGenerator(\n",
    "    sample_eval_nodes,\n",
    "    llm=OpenAI(model=\"gpt-3.5-turbo\"),\n",
    "    show_progress=True,\n",
    "    num_questions_per_chunk=2,\n",
    ")"
   ]
  },
  {
   "cell_type": "code",
   "execution_count": null,
   "metadata": {},
   "outputs": [],
   "source": [
    "eval_dataset = await dataset_generator.agenerate_dataset_from_nodes()"
   ]
  },
  {
   "cell_type": "code",
   "execution_count": 45,
   "metadata": {},
   "outputs": [],
   "source": [
    "eval_dataset.save_json(\"data/ipcc_eval_qr_dataset.json\")"
   ]
  },
  {
   "cell_type": "markdown",
   "metadata": {},
   "source": [
    "### Compare Results"
   ]
  },
  {
   "cell_type": "code",
   "execution_count": 46,
   "metadata": {},
   "outputs": [],
   "source": [
    "import nest_asyncio\n",
    "\n",
    "nest_asyncio.apply()"
   ]
  },
  {
   "cell_type": "code",
   "execution_count": 47,
   "metadata": {},
   "outputs": [],
   "source": [
    "max_samples = 10\n",
    "\n",
    "eval_qs = eval_dataset.questions\n",
    "ref_response_strs = [r for (_, r) in eval_dataset.qr_pairs]"
   ]
  },
  {
   "cell_type": "code",
   "execution_count": null,
   "metadata": {},
   "outputs": [],
   "source": [
    "import asyncio\n",
    "\n",
    "# Define a function to get responses\n",
    "async def aget_responses(questions, query_engine, show_progress=True):\n",
    "    tasks = []\n",
    "    for question in questions:\n",
    "        tasks.append(query_engine.aquery(question))\n",
    "    return await asyncio.gather(*tasks)\n",
    "\n",
    "# Get responses using the defined function\n",
    "base_pred_responses = await aget_responses(eval_qs[:max_samples], base_query_engine, show_progress=True)\n",
    "pred_responses = await aget_responses(eval_qs[:max_samples], query_engine, show_progress=True)\n",
    "\n",
    "# Convert responses to strings\n",
    "pred_response_strs = [str(p) for p in pred_responses]\n",
    "base_pred_response_strs = [str(p) for p in base_pred_responses]"
   ]
  },
  {
   "cell_type": "markdown",
   "metadata": {},
   "source": [
    "##### The first evaluation question."
   ]
  },
  {
   "cell_type": "code",
   "execution_count": 49,
   "metadata": {},
   "outputs": [
    {
     "data": {
      "text/plain": [
       "'How does soil carbon sequestration contribute to mitigating greenhouse gas emissions in ruminant production systems, and what are some management practices that can enhance carbon sequestration in grasslands?'"
      ]
     },
     "execution_count": 49,
     "metadata": {},
     "output_type": "execute_result"
    }
   ],
   "source": [
    "eval_qs[0]"
   ]
  },
  {
   "cell_type": "markdown",
   "metadata": {},
   "source": [
    "##### The first reference answer."
   ]
  },
  {
   "cell_type": "code",
   "execution_count": 50,
   "metadata": {},
   "outputs": [
    {
     "data": {
      "text/plain": [
       "'Soil carbon sequestration plays a significant role in mitigating greenhouse gas emissions in ruminant production systems by acting as an enhanced sink for carbon. This process can be directly measured by changes in soil organic carbon stocks and indirectly by measuring the net balance of carbon fluxes. Grasslands have been shown to sequester an average of 5,630 g C/m2 per year through soil organic carbon stocks and 2231 and 77 g C/m2 per year for drained organic and mineral soils, respectively, through carbon flux balance.\\n\\nTo enhance carbon sequestration in grasslands, various management practices can be implemented, including:\\n1. Avoiding soil tillage and the conversion of grasslands to arable use.\\n2. Moderately intensifying nutrient-poor permanent grasslands.\\n3. Using light grazing instead of heavy grazing.\\n4. Increasing the duration of grass leys.\\n5. Converting grass leys to grass-legume mixtures or permanent grasslands.\\n\\nThese practices can help reduce carbon losses and increase carbon sequestration in grasslands, ultimately contributing to the mitigation of greenhouse gas emissions in ruminant production systems.'"
      ]
     },
     "execution_count": 50,
     "metadata": {},
     "output_type": "execute_result"
    }
   ],
   "source": [
    "ref_response_strs[0]"
   ]
  },
  {
   "cell_type": "markdown",
   "metadata": {},
   "source": [
    "##### The first generated answer using window retriever."
   ]
  },
  {
   "cell_type": "code",
   "execution_count": 51,
   "metadata": {},
   "outputs": [
    {
     "data": {
      "text/plain": [
       "'Soil carbon sequestration plays a significant role in mitigating greenhouse gas emissions in ruminant production systems by acting as an enhanced sink for greenhouse gases. It can be directly measured by changes in soil organic carbon stocks or indirectly by assessing the net balance of carbon fluxes. Management practices that can enhance carbon sequestration in grasslands include avoiding soil tillage and conversion to arable land, moderately intensifying nutrient-poor permanent grasslands, using light grazing instead of heavy grazing, extending the duration of grass leys, and converting grass leys to grass-legume mixtures or permanent grasslands. These practices help reduce carbon losses and increase the overall carbon sequestration potential of grasslands.'"
      ]
     },
     "execution_count": 51,
     "metadata": {},
     "output_type": "execute_result"
    }
   ],
   "source": [
    "pred_response_strs[0]"
   ]
  },
  {
   "cell_type": "markdown",
   "metadata": {},
   "source": [
    "##### Storing a list of contexts and showing the context of the first generated response using the window retriever."
   ]
  },
  {
   "cell_type": "code",
   "execution_count": 52,
   "metadata": {},
   "outputs": [
    {
     "data": {
      "text/plain": [
       "['Animal (2010), 4:3, pp 334–350 &The Animal Consortium 2009\\ndoi:10.1017/S1751731109990784animal\\nMitigating the greenhouse gas balance of ruminant production\\nsystems through carbon sequestration in grasslands\\nJ. F .  Soussana1-, T. Tallec1and V. Blanfort1,2\\n1INRA UR0874, UREP Grassland Ecosystem Research, 234, Avenue du Bre ´zet, Clermont-Ferrand, F-63100, France;2CIRAD UR 8, Livestock Systems,\\nCampus International de Baillarguet, Cedex 5, Montpellier, F-34398, France\\n(Received 6 January 2009; Accepted 12 June 2009; First published online 22 September 2009)\\nSoil carbon sequestration (enhanced sinks) is the mechanism responsible for most of the greenhouse gas (GHG) mitigation\\npotential in the agriculture sector.  Carbon sequestration in grasslands can be determined directly by measuring changes in soil\\norganic carbon (SOC) stocks and indirectly by measuring the net balance of C ﬂuxes.  A literature search shows that grassland\\nC sequestration reaches on average 5 630 g C/m2per year according to inventories of SOC stocks and 2231 and 77 g C/m2\\nper year for drained organic and mineral soils, respectively, according to C ﬂux balance.  Off-site C sequestration occurs\\nwhenever more manure C is produced by than returned to a grassland plot.  The sum of on- and off-site C sequestration\\nreaches 129, 98 and 71 g C/m2per year for grazed, cut and mixed European grasslands on mineral soils, respectively, however\\nwith high uncertainty. ']"
      ]
     },
     "execution_count": 52,
     "metadata": {},
     "output_type": "execute_result"
    }
   ],
   "source": [
    "contexts = []\n",
    "\n",
    "for i in range(0, max_samples):\n",
    "    sublist = []\n",
    "    sublist.append(pred_responses[i].source_nodes[0].node.metadata['window'])\n",
    "    contexts.append(sublist)\n",
    "\n",
    "contexts[0]"
   ]
  },
  {
   "cell_type": "markdown",
   "metadata": {},
   "source": [
    "##### Storing a list of contexts and showing the context of the first generated response using the base retriever."
   ]
  },
  {
   "cell_type": "code",
   "execution_count": 53,
   "metadata": {},
   "outputs": [
    {
     "data": {
      "text/plain": [
       "['Animal (2010), 4:3, pp 334–350 &The Animal Consortium 2009\\ndoi:10.1017/S1751731109990784animal\\nMitigating the greenhouse gas balance of ruminant production\\nsystems through carbon sequestration in grasslands\\nJ. F . Soussana1-, T. Tallec1and V. Blanfort1,2\\n1INRA UR0874, UREP Grassland Ecosystem Research, 234, Avenue du Bre ´zet, Clermont-Ferrand, F-63100, France;2CIRAD UR 8, Livestock Systems,\\nCampus International de Baillarguet, Cedex 5, Montpellier, F-34398, France\\n(Received 6 January 2009; Accepted 12 June 2009; First published online 22 September 2009)\\nSoil carbon sequestration (enhanced sinks) is the mechanism responsible for most of the greenhouse gas (GHG) mitigation\\npotential in the agriculture sector. Carbon sequestration in grasslands can be determined directly by measuring changes in soil\\norganic carbon (SOC) stocks and indirectly by measuring the net balance of C ﬂuxes. A literature search shows that grassland\\nC sequestration reaches on average 5 630 g C/m2per year according to inventories of SOC stocks and 2231 and 77 g C/m2\\nper year for drained organic and mineral soils, respectively, according to C ﬂux balance. Off-site C sequestration occurs\\nwhenever more manure C is produced by than returned to a grassland plot. The sum of on- and off-site C sequestration\\nreaches 129, 98 and 71 g C/m2per year for grazed, cut and mixed European grasslands on mineral soils, respectively, however\\nwith high uncertainty. A range of management practices reduce C losses and increase C sequestration: (i) avoiding soil tillage\\nand the conversion of grasslands to arable use, (ii) moderately intensifying nutrient-poor permanent grasslands, (iii) using light\\ngrazing instead of heavy grazing, (iv) increasing the duration of grass leys; (v) converting grass leys to grass-legume mixtures\\nor to permanent grasslands. With nine European sites, direct emissions of N 2O from soil and of CH 4from enteric fermentation\\nat grazing, expressed in CO 2equivalents, compensated 10% and 34% of the on-site grassland C sequestration, respectively.\\nDigestion inside the barn of the harvested herbage leads to further emissions of CH 4and N 2O by the production systems,\\nwhich were estimated at 130 g CO 2equivalents/m2per year. The net balance of on- and off-site C sequestration, CH 4and\\nN2O emissions reached 38 g CO 2equivalents/m2per year, indicating a non-signiﬁcant net sink activity. This net balance was,\\nhowever, negative for intensively managed cut sites indicating a source to the atmosphere. In conclusion, this review conﬁrms\\nthat grassland C sequestration has a strong potential to partly mitigate the GHG balance of ruminant production systems.\\nHowever, as soil C sequestration is both reversible and vulnerable to disturbance, biodiversity loss and climate change,\\nCH4and N 2O emissions from the livestock sector need to be reduced and current SOC stocks preserved.\\nKeywords: climate change, CO 2,N 2O, CH 4, soil organic carbon\\nImplications\\nThe C sequestration potential by grasslands and rangelands\\nc o u l db eu s e dt op a r t l ym i t i g a t et h eg r e e n h o u s eg a s( G H G )\\nemissions of the livestock sector. This will require avoidingland use changes that reduce ecosystem soil C stocks (e.g.deforestation, ploughing up long-term grasslands) and a\\ncautious management of pastures, aiming at preserving andrestoring soils and their soil organic matter content. Combinedwith other mitigation measures, such as a reduction in the useof N fertilisers, of fossil-fuel energy and of N-rich feedstuffs\\nby farms, this may lead to substantial reductions in GHG\\nemissions per unit land area and per unit animal product.Introduction\\nGrasslands cover about one-quarter of the earth’s land\\nsurface (Ojima\\net al ., 1993) and span a range of climate\\nconditions from arid to humid.']"
      ]
     },
     "execution_count": 53,
     "metadata": {},
     "output_type": "execute_result"
    }
   ],
   "source": [
    "base_contexts = []\n",
    "\n",
    "for i in range(0, max_samples):\n",
    "    sublist = []\n",
    "    sublist.append(base_pred_responses[i].source_nodes[0].node.text)\n",
    "    base_contexts.append(sublist)\n",
    "\n",
    "base_contexts[0]"
   ]
  },
  {
   "cell_type": "markdown",
   "metadata": {},
   "source": [
    "## RAGAS Evaluation"
   ]
  },
  {
   "cell_type": "code",
   "execution_count": 54,
   "metadata": {},
   "outputs": [],
   "source": [
    "from datasets import Dataset \n",
    "from ragas import evaluate\n",
    "from ragas.metrics import (faithfulness, answer_correctness, answer_relevancy, answer_similarity, context_recall)\n",
    "from ragas.metrics.critique import harmfulness"
   ]
  },
  {
   "cell_type": "code",
   "execution_count": 55,
   "metadata": {},
   "outputs": [
    {
     "name": "stderr",
     "output_type": "stream",
     "text": [
      "Evaluating: 100%|██████████| 50/50 [00:34<00:00,  1.45it/s]\n"
     ]
    },
    {
     "data": {
      "text/html": [
       "<div>\n",
       "<style scoped>\n",
       "    .dataframe tbody tr th:only-of-type {\n",
       "        vertical-align: middle;\n",
       "    }\n",
       "\n",
       "    .dataframe tbody tr th {\n",
       "        vertical-align: top;\n",
       "    }\n",
       "\n",
       "    .dataframe thead th {\n",
       "        text-align: right;\n",
       "    }\n",
       "</style>\n",
       "<table border=\"1\" class=\"dataframe\">\n",
       "  <thead>\n",
       "    <tr style=\"text-align: right;\">\n",
       "      <th></th>\n",
       "      <th>question</th>\n",
       "      <th>answer</th>\n",
       "      <th>ground_truth</th>\n",
       "      <th>contexts</th>\n",
       "      <th>faithfulness</th>\n",
       "      <th>answer_correctness</th>\n",
       "      <th>answer_relevancy</th>\n",
       "      <th>answer_similarity</th>\n",
       "      <th>harmfulness</th>\n",
       "    </tr>\n",
       "  </thead>\n",
       "  <tbody>\n",
       "    <tr>\n",
       "      <th>0</th>\n",
       "      <td>How does soil carbon sequestration contribute ...</td>\n",
       "      <td>Soil carbon sequestration plays a significant ...</td>\n",
       "      <td>Soil carbon sequestration plays a significant ...</td>\n",
       "      <td>[Animal (2010), 4:3, pp 334–350 &amp;The Animal Co...</td>\n",
       "      <td>1.000000</td>\n",
       "      <td>0.580267</td>\n",
       "      <td>0.902974</td>\n",
       "      <td>0.987733</td>\n",
       "      <td>0</td>\n",
       "    </tr>\n",
       "    <tr>\n",
       "      <th>1</th>\n",
       "      <td>What are the implications of soil carbon seque...</td>\n",
       "      <td>The implications of soil carbon sequestration ...</td>\n",
       "      <td>The implications of soil carbon sequestration ...</td>\n",
       "      <td>[With nine European sites, direct emissions of...</td>\n",
       "      <td>1.000000</td>\n",
       "      <td>0.747530</td>\n",
       "      <td>0.918362</td>\n",
       "      <td>0.990118</td>\n",
       "      <td>0</td>\n",
       "    </tr>\n",
       "    <tr>\n",
       "      <th>2</th>\n",
       "      <td>What are some examples of grassland types and ...</td>\n",
       "      <td>Examples of grassland types and their correspo...</td>\n",
       "      <td>Some examples of grassland types and their cor...</td>\n",
       "      <td>[Four sites\\nbecame CO 2sources in some years,...</td>\n",
       "      <td>0.846154</td>\n",
       "      <td>0.425608</td>\n",
       "      <td>0.991860</td>\n",
       "      <td>0.952431</td>\n",
       "      <td>0</td>\n",
       "    </tr>\n",
       "    <tr>\n",
       "      <th>3</th>\n",
       "      <td>How does the duration of management practices,...</td>\n",
       "      <td>The duration of management practices, such as ...</td>\n",
       "      <td>The duration of management practices, such as ...</td>\n",
       "      <td>[Processes controlling soil organic carbon acc...</td>\n",
       "      <td>1.000000</td>\n",
       "      <td>0.695313</td>\n",
       "      <td>0.925797</td>\n",
       "      <td>0.981253</td>\n",
       "      <td>0</td>\n",
       "    </tr>\n",
       "    <tr>\n",
       "      <th>4</th>\n",
       "      <td>How does soil carbon sequestration contribute ...</td>\n",
       "      <td>Soil carbon sequestration is highlighted as th...</td>\n",
       "      <td>Soil carbon sequestration is responsible for m...</td>\n",
       "      <td>[Livestock productionsystems also emit 37% of ...</td>\n",
       "      <td>1.000000</td>\n",
       "      <td>0.997554</td>\n",
       "      <td>0.889519</td>\n",
       "      <td>0.990217</td>\n",
       "      <td>0</td>\n",
       "    </tr>\n",
       "    <tr>\n",
       "      <th>5</th>\n",
       "      <td>What is the estimated potential for soil organ...</td>\n",
       "      <td>The estimated potential for soil organic carbo...</td>\n",
       "      <td>The estimated potential for soil organic carbo...</td>\n",
       "      <td>[Furthermore, it induces 65% of anthro-\\npogen...</td>\n",
       "      <td>1.000000</td>\n",
       "      <td>0.999858</td>\n",
       "      <td>0.957192</td>\n",
       "      <td>0.999434</td>\n",
       "      <td>0</td>\n",
       "    </tr>\n",
       "    <tr>\n",
       "      <th>6</th>\n",
       "      <td>How did Ogle et al. (2004) find that managemen...</td>\n",
       "      <td>Ogle et al. (2004) found that management pract...</td>\n",
       "      <td>Ogle et al. (2004) found that management pract...</td>\n",
       "      <td>[Mineral and organic soils (peat, histosoils, ...</td>\n",
       "      <td>1.000000</td>\n",
       "      <td>0.997781</td>\n",
       "      <td>0.950737</td>\n",
       "      <td>0.991125</td>\n",
       "      <td>0</td>\n",
       "    </tr>\n",
       "    <tr>\n",
       "      <th>7</th>\n",
       "      <td>What are the advantages and drawbacks of estim...</td>\n",
       "      <td>The advantages of estimating carbon sequestrat...</td>\n",
       "      <td>The advantages of estimating carbon sequestrat...</td>\n",
       "      <td>[Animal (2010), 4:3, pp 334–350 &amp;The Animal Co...</td>\n",
       "      <td>NaN</td>\n",
       "      <td>0.435338</td>\n",
       "      <td>0.955487</td>\n",
       "      <td>0.991352</td>\n",
       "      <td>0</td>\n",
       "    </tr>\n",
       "    <tr>\n",
       "      <th>8</th>\n",
       "      <td>What are the different methods used to assess ...</td>\n",
       "      <td>The different methods used to assess net carbo...</td>\n",
       "      <td>The different methods used to assess net carbo...</td>\n",
       "      <td>[This factor is covered only in part by\\nthe 1...</td>\n",
       "      <td>0.250000</td>\n",
       "      <td>0.749088</td>\n",
       "      <td>0.960056</td>\n",
       "      <td>0.996353</td>\n",
       "      <td>0</td>\n",
       "    </tr>\n",
       "    <tr>\n",
       "      <th>9</th>\n",
       "      <td>Can you provide examples of specific grassland...</td>\n",
       "      <td>Examples of specific grassland locations and t...</td>\n",
       "      <td>- Alpine extensive pasture and hay meadow at M...</td>\n",
       "      <td>[Atall sites, the NEE of CO\\n2was assessed usi...</td>\n",
       "      <td>0.000000</td>\n",
       "      <td>0.434263</td>\n",
       "      <td>0.961868</td>\n",
       "      <td>0.954491</td>\n",
       "      <td>0</td>\n",
       "    </tr>\n",
       "  </tbody>\n",
       "</table>\n",
       "</div>"
      ],
      "text/plain": [
       "                                            question  \\\n",
       "0  How does soil carbon sequestration contribute ...   \n",
       "1  What are the implications of soil carbon seque...   \n",
       "2  What are some examples of grassland types and ...   \n",
       "3  How does the duration of management practices,...   \n",
       "4  How does soil carbon sequestration contribute ...   \n",
       "5  What is the estimated potential for soil organ...   \n",
       "6  How did Ogle et al. (2004) find that managemen...   \n",
       "7  What are the advantages and drawbacks of estim...   \n",
       "8  What are the different methods used to assess ...   \n",
       "9  Can you provide examples of specific grassland...   \n",
       "\n",
       "                                              answer  \\\n",
       "0  Soil carbon sequestration plays a significant ...   \n",
       "1  The implications of soil carbon sequestration ...   \n",
       "2  Examples of grassland types and their correspo...   \n",
       "3  The duration of management practices, such as ...   \n",
       "4  Soil carbon sequestration is highlighted as th...   \n",
       "5  The estimated potential for soil organic carbo...   \n",
       "6  Ogle et al. (2004) found that management pract...   \n",
       "7  The advantages of estimating carbon sequestrat...   \n",
       "8  The different methods used to assess net carbo...   \n",
       "9  Examples of specific grassland locations and t...   \n",
       "\n",
       "                                        ground_truth  \\\n",
       "0  Soil carbon sequestration plays a significant ...   \n",
       "1  The implications of soil carbon sequestration ...   \n",
       "2  Some examples of grassland types and their cor...   \n",
       "3  The duration of management practices, such as ...   \n",
       "4  Soil carbon sequestration is responsible for m...   \n",
       "5  The estimated potential for soil organic carbo...   \n",
       "6  Ogle et al. (2004) found that management pract...   \n",
       "7  The advantages of estimating carbon sequestrat...   \n",
       "8  The different methods used to assess net carbo...   \n",
       "9  - Alpine extensive pasture and hay meadow at M...   \n",
       "\n",
       "                                            contexts  faithfulness  \\\n",
       "0  [Animal (2010), 4:3, pp 334–350 &The Animal Co...      1.000000   \n",
       "1  [With nine European sites, direct emissions of...      1.000000   \n",
       "2  [Four sites\\nbecame CO 2sources in some years,...      0.846154   \n",
       "3  [Processes controlling soil organic carbon acc...      1.000000   \n",
       "4  [Livestock productionsystems also emit 37% of ...      1.000000   \n",
       "5  [Furthermore, it induces 65% of anthro-\\npogen...      1.000000   \n",
       "6  [Mineral and organic soils (peat, histosoils, ...      1.000000   \n",
       "7  [Animal (2010), 4:3, pp 334–350 &The Animal Co...           NaN   \n",
       "8  [This factor is covered only in part by\\nthe 1...      0.250000   \n",
       "9  [Atall sites, the NEE of CO\\n2was assessed usi...      0.000000   \n",
       "\n",
       "   answer_correctness  answer_relevancy  answer_similarity  harmfulness  \n",
       "0            0.580267          0.902974           0.987733            0  \n",
       "1            0.747530          0.918362           0.990118            0  \n",
       "2            0.425608          0.991860           0.952431            0  \n",
       "3            0.695313          0.925797           0.981253            0  \n",
       "4            0.997554          0.889519           0.990217            0  \n",
       "5            0.999858          0.957192           0.999434            0  \n",
       "6            0.997781          0.950737           0.991125            0  \n",
       "7            0.435338          0.955487           0.991352            0  \n",
       "8            0.749088          0.960056           0.996353            0  \n",
       "9            0.434263          0.961868           0.954491            0  "
      ]
     },
     "execution_count": 55,
     "metadata": {},
     "output_type": "execute_result"
    }
   ],
   "source": [
    "data_samples = {\n",
    "    'question': eval_qs[:max_samples],\n",
    "    'answer': pred_response_strs[:max_samples],\n",
    "    'ground_truth': ref_response_strs[:max_samples],\n",
    "    'contexts': contexts[:max_samples]\n",
    "}\n",
    "\n",
    "dataset = Dataset.from_dict(data_samples)\n",
    "\n",
    "score = evaluate(dataset,metrics=[faithfulness, answer_correctness, answer_relevancy, answer_similarity, harmfulness])\n",
    "score.to_pandas()"
   ]
  },
  {
   "cell_type": "code",
   "execution_count": 56,
   "metadata": {},
   "outputs": [
    {
     "name": "stderr",
     "output_type": "stream",
     "text": [
      "Evaluating: 100%|██████████| 50/50 [00:26<00:00,  1.88it/s]\n"
     ]
    },
    {
     "data": {
      "text/html": [
       "<div>\n",
       "<style scoped>\n",
       "    .dataframe tbody tr th:only-of-type {\n",
       "        vertical-align: middle;\n",
       "    }\n",
       "\n",
       "    .dataframe tbody tr th {\n",
       "        vertical-align: top;\n",
       "    }\n",
       "\n",
       "    .dataframe thead th {\n",
       "        text-align: right;\n",
       "    }\n",
       "</style>\n",
       "<table border=\"1\" class=\"dataframe\">\n",
       "  <thead>\n",
       "    <tr style=\"text-align: right;\">\n",
       "      <th></th>\n",
       "      <th>question</th>\n",
       "      <th>answer</th>\n",
       "      <th>ground_truth</th>\n",
       "      <th>contexts</th>\n",
       "      <th>faithfulness</th>\n",
       "      <th>answer_correctness</th>\n",
       "      <th>answer_relevancy</th>\n",
       "      <th>answer_similarity</th>\n",
       "      <th>harmfulness</th>\n",
       "    </tr>\n",
       "  </thead>\n",
       "  <tbody>\n",
       "    <tr>\n",
       "      <th>0</th>\n",
       "      <td>How does soil carbon sequestration contribute ...</td>\n",
       "      <td>Soil carbon sequestration plays a significant ...</td>\n",
       "      <td>Soil carbon sequestration plays a significant ...</td>\n",
       "      <td>[Animal (2010), 4:3, pp 334–350 &amp;The Animal Co...</td>\n",
       "      <td>1.000000</td>\n",
       "      <td>0.598630</td>\n",
       "      <td>0.964615</td>\n",
       "      <td>0.982756</td>\n",
       "      <td>0</td>\n",
       "    </tr>\n",
       "    <tr>\n",
       "      <th>1</th>\n",
       "      <td>What are the implications of soil carbon seque...</td>\n",
       "      <td>The implications of soil carbon sequestration ...</td>\n",
       "      <td>The implications of soil carbon sequestration ...</td>\n",
       "      <td>[Animal (2010), 4:3, pp 334–350 &amp;The Animal Co...</td>\n",
       "      <td>1.000000</td>\n",
       "      <td>0.792787</td>\n",
       "      <td>0.925829</td>\n",
       "      <td>0.989330</td>\n",
       "      <td>0</td>\n",
       "    </tr>\n",
       "    <tr>\n",
       "      <th>2</th>\n",
       "      <td>What are some examples of grassland types and ...</td>\n",
       "      <td>Examples of grassland types mentioned in the d...</td>\n",
       "      <td>Some examples of grassland types and their cor...</td>\n",
       "      <td>[This will require avoidingland use changes th...</td>\n",
       "      <td>1.000000</td>\n",
       "      <td>0.829183</td>\n",
       "      <td>0.952754</td>\n",
       "      <td>0.916733</td>\n",
       "      <td>0</td>\n",
       "    </tr>\n",
       "    <tr>\n",
       "      <th>3</th>\n",
       "      <td>How does the duration of management practices,...</td>\n",
       "      <td>The duration of management practices, such as ...</td>\n",
       "      <td>The duration of management practices, such as ...</td>\n",
       "      <td>[Ogle\\net al . (2004) identiﬁed 49 studies\\nde...</td>\n",
       "      <td>0.857143</td>\n",
       "      <td>0.423987</td>\n",
       "      <td>0.919160</td>\n",
       "      <td>0.945949</td>\n",
       "      <td>0</td>\n",
       "    </tr>\n",
       "    <tr>\n",
       "      <th>4</th>\n",
       "      <td>How does soil carbon sequestration contribute ...</td>\n",
       "      <td>Soil carbon sequestration contributes to the m...</td>\n",
       "      <td>Soil carbon sequestration is responsible for m...</td>\n",
       "      <td>[Fontaine S, Barot S, Barre P , Bdioui N, Mary...</td>\n",
       "      <td>0.500000</td>\n",
       "      <td>0.486118</td>\n",
       "      <td>0.973280</td>\n",
       "      <td>0.944471</td>\n",
       "      <td>0</td>\n",
       "    </tr>\n",
       "    <tr>\n",
       "      <th>5</th>\n",
       "      <td>What is the estimated potential for soil organ...</td>\n",
       "      <td>The estimated potential for soil organic carbo...</td>\n",
       "      <td>The estimated potential for soil organic carbo...</td>\n",
       "      <td>[Animal (2010), 4:3, pp 334–350 &amp;The Animal Co...</td>\n",
       "      <td>0.000000</td>\n",
       "      <td>0.999769</td>\n",
       "      <td>0.957163</td>\n",
       "      <td>0.999076</td>\n",
       "      <td>0</td>\n",
       "    </tr>\n",
       "    <tr>\n",
       "      <th>6</th>\n",
       "      <td>How did Ogle et al. (2004) find that managemen...</td>\n",
       "      <td>Ogle et al. (2004) found that management pract...</td>\n",
       "      <td>Ogle et al. (2004) found that management pract...</td>\n",
       "      <td>[Ogle\\net al . (2004) identiﬁed 49 studies\\nde...</td>\n",
       "      <td>1.000000</td>\n",
       "      <td>0.999942</td>\n",
       "      <td>0.951705</td>\n",
       "      <td>0.999767</td>\n",
       "      <td>0</td>\n",
       "    </tr>\n",
       "    <tr>\n",
       "      <th>7</th>\n",
       "      <td>What are the advantages and drawbacks of estim...</td>\n",
       "      <td>The advantages of estimating carbon sequestrat...</td>\n",
       "      <td>The advantages of estimating carbon sequestrat...</td>\n",
       "      <td>[Ogle\\net al . (2004) identiﬁed 49 studies\\nde...</td>\n",
       "      <td>1.000000</td>\n",
       "      <td>0.492422</td>\n",
       "      <td>0.954493</td>\n",
       "      <td>0.969690</td>\n",
       "      <td>0</td>\n",
       "    </tr>\n",
       "    <tr>\n",
       "      <th>8</th>\n",
       "      <td>What are the different methods used to assess ...</td>\n",
       "      <td>The different methods used to assess net carbo...</td>\n",
       "      <td>The different methods used to assess net carbo...</td>\n",
       "      <td>[Table 1 Literature survey of net C storage (N...</td>\n",
       "      <td>1.000000</td>\n",
       "      <td>0.748839</td>\n",
       "      <td>0.960056</td>\n",
       "      <td>0.995358</td>\n",
       "      <td>0</td>\n",
       "    </tr>\n",
       "    <tr>\n",
       "      <th>9</th>\n",
       "      <td>Can you provide examples of specific grassland...</td>\n",
       "      <td>Examples of specific grassland locations and t...</td>\n",
       "      <td>- Alpine extensive pasture and hay meadow at M...</td>\n",
       "      <td>[The uncertainty associated to NCS can be esti...</td>\n",
       "      <td>1.000000</td>\n",
       "      <td>0.517212</td>\n",
       "      <td>0.961868</td>\n",
       "      <td>0.957691</td>\n",
       "      <td>0</td>\n",
       "    </tr>\n",
       "  </tbody>\n",
       "</table>\n",
       "</div>"
      ],
      "text/plain": [
       "                                            question  \\\n",
       "0  How does soil carbon sequestration contribute ...   \n",
       "1  What are the implications of soil carbon seque...   \n",
       "2  What are some examples of grassland types and ...   \n",
       "3  How does the duration of management practices,...   \n",
       "4  How does soil carbon sequestration contribute ...   \n",
       "5  What is the estimated potential for soil organ...   \n",
       "6  How did Ogle et al. (2004) find that managemen...   \n",
       "7  What are the advantages and drawbacks of estim...   \n",
       "8  What are the different methods used to assess ...   \n",
       "9  Can you provide examples of specific grassland...   \n",
       "\n",
       "                                              answer  \\\n",
       "0  Soil carbon sequestration plays a significant ...   \n",
       "1  The implications of soil carbon sequestration ...   \n",
       "2  Examples of grassland types mentioned in the d...   \n",
       "3  The duration of management practices, such as ...   \n",
       "4  Soil carbon sequestration contributes to the m...   \n",
       "5  The estimated potential for soil organic carbo...   \n",
       "6  Ogle et al. (2004) found that management pract...   \n",
       "7  The advantages of estimating carbon sequestrat...   \n",
       "8  The different methods used to assess net carbo...   \n",
       "9  Examples of specific grassland locations and t...   \n",
       "\n",
       "                                        ground_truth  \\\n",
       "0  Soil carbon sequestration plays a significant ...   \n",
       "1  The implications of soil carbon sequestration ...   \n",
       "2  Some examples of grassland types and their cor...   \n",
       "3  The duration of management practices, such as ...   \n",
       "4  Soil carbon sequestration is responsible for m...   \n",
       "5  The estimated potential for soil organic carbo...   \n",
       "6  Ogle et al. (2004) found that management pract...   \n",
       "7  The advantages of estimating carbon sequestrat...   \n",
       "8  The different methods used to assess net carbo...   \n",
       "9  - Alpine extensive pasture and hay meadow at M...   \n",
       "\n",
       "                                            contexts  faithfulness  \\\n",
       "0  [Animal (2010), 4:3, pp 334–350 &The Animal Co...      1.000000   \n",
       "1  [Animal (2010), 4:3, pp 334–350 &The Animal Co...      1.000000   \n",
       "2  [This will require avoidingland use changes th...      1.000000   \n",
       "3  [Ogle\\net al . (2004) identiﬁed 49 studies\\nde...      0.857143   \n",
       "4  [Fontaine S, Barot S, Barre P , Bdioui N, Mary...      0.500000   \n",
       "5  [Animal (2010), 4:3, pp 334–350 &The Animal Co...      0.000000   \n",
       "6  [Ogle\\net al . (2004) identiﬁed 49 studies\\nde...      1.000000   \n",
       "7  [Ogle\\net al . (2004) identiﬁed 49 studies\\nde...      1.000000   \n",
       "8  [Table 1 Literature survey of net C storage (N...      1.000000   \n",
       "9  [The uncertainty associated to NCS can be esti...      1.000000   \n",
       "\n",
       "   answer_correctness  answer_relevancy  answer_similarity  harmfulness  \n",
       "0            0.598630          0.964615           0.982756            0  \n",
       "1            0.792787          0.925829           0.989330            0  \n",
       "2            0.829183          0.952754           0.916733            0  \n",
       "3            0.423987          0.919160           0.945949            0  \n",
       "4            0.486118          0.973280           0.944471            0  \n",
       "5            0.999769          0.957163           0.999076            0  \n",
       "6            0.999942          0.951705           0.999767            0  \n",
       "7            0.492422          0.954493           0.969690            0  \n",
       "8            0.748839          0.960056           0.995358            0  \n",
       "9            0.517212          0.961868           0.957691            0  "
      ]
     },
     "execution_count": 56,
     "metadata": {},
     "output_type": "execute_result"
    }
   ],
   "source": [
    "base_data_samples = {\n",
    "    'question': eval_qs[:max_samples],\n",
    "    'answer': base_pred_response_strs[:max_samples],\n",
    "    'ground_truth': ref_response_strs[:max_samples],\n",
    "    'contexts': base_contexts[:max_samples]\n",
    "}\n",
    "\n",
    "base_dataset = Dataset.from_dict(base_data_samples)\n",
    "\n",
    "score = evaluate(base_dataset,metrics=[faithfulness, answer_correctness, answer_relevancy, answer_similarity, harmfulness])\n",
    "score.to_pandas()"
   ]
  }
 ],
 "metadata": {
  "kernelspec": {
   "display_name": "Python 3",
   "language": "python",
   "name": "python3"
  },
  "language_info": {
   "codemirror_mode": {
    "name": "ipython",
    "version": 3
   },
   "file_extension": ".py",
   "mimetype": "text/x-python",
   "name": "python",
   "nbconvert_exporter": "python",
   "pygments_lexer": "ipython3",
   "version": "3.10.13"
  }
 },
 "nbformat": 4,
 "nbformat_minor": 2
}
